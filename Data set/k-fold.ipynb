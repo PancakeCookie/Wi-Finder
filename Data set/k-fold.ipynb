{
 "cells": [
  {
   "cell_type": "code",
   "execution_count": 5,
   "metadata": {},
   "outputs": [],
   "source": [
    "import json\n",
    "ann_name = 'receipt_cleaned_v2'\n",
    "in_ann_path = f'./annotations/{ann_name}.json' \n",
    "K = 5\n",
    "ann_dict = json.load(open(in_ann_path,'r'))"
   ]
  },
  {
   "cell_type": "code",
   "execution_count": 6,
   "metadata": {},
   "outputs": [
    {
     "name": "stdout",
     "output_type": "stream",
     "text": [
      "loading annotations into memory...\n",
      "Done (t=0.00s)\n",
      "creating index...\n",
      "index created!\n"
     ]
    }
   ],
   "source": [
    "from sklearn.model_selection import KFold\n",
    "from pycocotools.coco import COCO\n",
    "\n",
    "coco = COCO(in_ann_path)\n",
    "img_ids = coco.getImgIds()\n",
    "kf = KFold(n_splits=K)\n",
    "\n",
    "for k_idx, (train_index, test_index) in enumerate(kf.split(img_ids)):\n",
    "    train_dic = {\n",
    "        'licenses':ann_dict['licenses'],\n",
    "        'categories':ann_dict['categories'],\n",
    "        'images': [],\n",
    "        'annotations':[]\n",
    "    }\n",
    "    for idx in train_index:\n",
    "        img_id = img_ids[idx]\n",
    "        train_dic['images'].append(coco.loadImgs(img_id)[0])\n",
    "        for ann_id in coco.getAnnIds(img_id):\n",
    "            train_dic['annotations'].append(coco.loadAnns(ann_id)[0])\n",
    "    test_dic = {\n",
    "        'licenses':ann_dict['licenses'],\n",
    "        'categories':ann_dict['categories'],\n",
    "        'images': [],\n",
    "        'annotations':[]\n",
    "    }\n",
    "    for idx in test_index:\n",
    "        img_id = img_ids[idx]\n",
    "        test_dic['images'].append(coco.loadImgs(img_id)[0])\n",
    "        for ann_id in coco.getAnnIds(img_id):\n",
    "            test_dic['annotations'].append(coco.loadAnns(ann_id)[0])\n",
    "    json.dump(train_dic,open(f'annotations/train_{ann_name}_k{k_idx}.json','w'),indent=4)\n",
    "    json.dump(test_dic,open(f'annotations/test_{ann_name}_k{k_idx}.json','w'),indent=4)"
   ]
  },
  {
   "cell_type": "code",
   "execution_count": null,
   "metadata": {},
   "outputs": [],
   "source": []
  }
 ],
 "metadata": {
  "interpreter": {
   "hash": "d4d1e4263499bec80672ea0156c357c1ee493ec2b1c70f0acce89fc37c4a6abe"
  },
  "kernelspec": {
   "display_name": "Python 3.8.5 ('base')",
   "language": "python",
   "name": "python3"
  },
  "language_info": {
   "codemirror_mode": {
    "name": "ipython",
    "version": 3
   },
   "file_extension": ".py",
   "mimetype": "text/x-python",
   "name": "python",
   "nbconvert_exporter": "python",
   "pygments_lexer": "ipython3",
   "version": "3.8.5"
  },
  "orig_nbformat": 4
 },
 "nbformat": 4,
 "nbformat_minor": 2
}
