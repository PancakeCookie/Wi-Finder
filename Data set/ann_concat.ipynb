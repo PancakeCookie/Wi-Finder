{
 "cells": [
  {
   "cell_type": "code",
   "execution_count": 3,
   "metadata": {},
   "outputs": [],
   "source": [
    "import json\n",
    "from pycocotools.coco import COCO\n",
    "\n",
    "ann_path_list = [\n",
    "    '/opt/ml/upstage_OCR/Data set/annotations/general_00_10_79_81.json',\n",
    "    '/opt/ml/upstage_OCR/Data set/annotations/general_11_30.json',\n",
    "    '/opt/ml/upstage_OCR/Data set/annotations/general_31_45.json',\n",
    "    '/opt/ml/upstage_OCR/Data set/annotations/general_46_60.json',\n",
    "    '/opt/ml/upstage_OCR/Data set/annotations/general_61_78.json',\n",
    "    '/opt/ml/upstage_OCR/Data set/annotations/general_82_114.json',\n",
    "    '/opt/ml/upstage_OCR/Data set/annotations/general_115_147.json',\n",
    "    '/opt/ml/upstage_OCR/Data set/annotations/general_148_180.json',\n",
    "    '/opt/ml/upstage_OCR/Data set/annotations/general_181_213.json'\n",
    "]\n",
    "\n",
    "out_path = 'general_00_213.json'"
   ]
  },
  {
   "cell_type": "code",
   "execution_count": 4,
   "metadata": {},
   "outputs": [
    {
     "name": "stdout",
     "output_type": "stream",
     "text": [
      "loading annotations into memory...\n",
      "Done (t=0.00s)\n",
      "loading annotations into memory...\n",
      "Done (t=0.00s)\n",
      "loading annotations into memory...\n",
      "Done (t=0.00s)\n",
      "loading annotations into memory...\n",
      "Done (t=0.00s)\n",
      "loading annotations into memory...\n",
      "Done (t=0.00s)\n",
      "loading annotations into memory...\n",
      "Done (t=0.00s)\n",
      "loading annotations into memory...\n",
      "Done (t=0.00s)\n",
      "loading annotations into memory...\n",
      "Done (t=0.00s)\n",
      "loading annotations into memory...\n",
      "Done (t=0.00s)\n"
     ]
    }
   ],
   "source": [
    "cat_dict = {}\n",
    "img_ann_dicts = []\n",
    "coco_list = []\n",
    "\n",
    "for ann_path in ann_path_list:\n",
    "    coco = COCO(ann_path)\n",
    "    img_ann_dict = {}\n",
    "    for image_id in coco.getImgIds():\n",
    "        img_ann_dict[image_id] = []\n",
    "    for ann_id in coco.getAnnIds():\n",
    "        ann = coco.loadAnns(ann_id)[0]\n",
    "        img_ann_dict[ann['image_id']].append(ann_id)\n",
    "\n",
    "    img_ann_dicts.append(img_ann_dict)\n",
    "    coco_list.append(coco)"
   ]
  },
  {
   "cell_type": "code",
   "execution_count": 5,
   "metadata": {},
   "outputs": [],
   "source": [
    "with open(ann_path_list[0],'r') as f:\n",
    "    dic = json.load(f)\n",
    "\n",
    "cat_dict['licenses'] = dic['licenses']\n",
    "cat_dict['licenses'] = dic['info']\n",
    "cat_dict['categories'] = dic['categories']\n",
    "cat_dict['images'] = []\n",
    "cat_dict['annotations'] = []"
   ]
  },
  {
   "cell_type": "code",
   "execution_count": 6,
   "metadata": {},
   "outputs": [],
   "source": [
    "new_ann_id = 0\n",
    "new_image_id = 0\n",
    "for i_a,coco in zip(img_ann_dicts,coco_list):\n",
    "    for image_id in coco.getImgIds():\n",
    "        image = coco.loadImgs(image_id)[0]\n",
    "        image['id'] = new_image_id\n",
    "        cat_dict['images'].append(image)\n",
    "        for ann_id in i_a[image_id]:\n",
    "            ann = coco.loadAnns(ann_id)[0]\n",
    "            ann['id'] = new_ann_id\n",
    "            ann['image_id'] = new_image_id\n",
    "            cat_dict['annotations'].append(ann)\n",
    "            new_ann_id += 1\n",
    "        new_image_id += 1"
   ]
  },
  {
   "cell_type": "code",
   "execution_count": 7,
   "metadata": {},
   "outputs": [],
   "source": [
    "with open(out_path,'w') as f:\n",
    "    json.dump(cat_dict,f,indent=4)"
   ]
  },
  {
   "cell_type": "code",
   "execution_count": null,
   "metadata": {},
   "outputs": [],
   "source": []
  }
 ],
 "metadata": {
  "interpreter": {
   "hash": "d4d1e4263499bec80672ea0156c357c1ee493ec2b1c70f0acce89fc37c4a6abe"
  },
  "kernelspec": {
   "display_name": "Python 3.8.5 ('base')",
   "language": "python",
   "name": "python3"
  },
  "language_info": {
   "codemirror_mode": {
    "name": "ipython",
    "version": 3
   },
   "file_extension": ".py",
   "mimetype": "text/x-python",
   "name": "python",
   "nbconvert_exporter": "python",
   "pygments_lexer": "ipython3",
   "version": "3.8.5"
  },
  "orig_nbformat": 4
 },
 "nbformat": 4,
 "nbformat_minor": 2
}
