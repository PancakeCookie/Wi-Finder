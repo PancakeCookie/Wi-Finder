{
 "cells": [
  {
   "cell_type": "code",
   "execution_count": 7,
   "metadata": {},
   "outputs": [],
   "source": [
    "import json\n",
    "\n",
    "all_ann_dict_path = 'annotations/receipt 0-259.json'\n",
    "out_path = 'annotations/receipt_cleaned_v2.json'\n",
    "all_ann_dict = json.load(open(all_ann_dict_path,'r'))"
   ]
  },
  {
   "cell_type": "code",
   "execution_count": 8,
   "metadata": {},
   "outputs": [
    {
     "data": {
      "text/plain": [
       "[0,\n",
       " 11,\n",
       " 12,\n",
       " 14,\n",
       " 23,\n",
       " 26,\n",
       " 27,\n",
       " 28,\n",
       " 30,\n",
       " 32,\n",
       " 33,\n",
       " 45,\n",
       " 47,\n",
       " 48,\n",
       " 52,\n",
       " 64,\n",
       " 69,\n",
       " 70,\n",
       " 72,\n",
       " 74,\n",
       " 75,\n",
       " 77,\n",
       " 84,\n",
       " 87,\n",
       " 91,\n",
       " 93,\n",
       " 95,\n",
       " 111,\n",
       " 146,\n",
       " 149,\n",
       " 156,\n",
       " 157,\n",
       " 194,\n",
       " 198,\n",
       " 201,\n",
       " 202,\n",
       " 207,\n",
       " 209,\n",
       " 230]"
      ]
     },
     "execution_count": 8,
     "metadata": {},
     "output_type": "execute_result"
    }
   ],
   "source": [
    "import sys, os\n",
    "sys.path.append('../code')\n",
    "import key\n",
    "\n",
    "key.general_cleansing_list_v2"
   ]
  },
  {
   "cell_type": "code",
   "execution_count": 9,
   "metadata": {},
   "outputs": [
    {
     "name": "stdout",
     "output_type": "stream",
     "text": [
      "loading annotations into memory...\n",
      "Done (t=0.00s)\n",
      "creating index...\n",
      "index created!\n",
      "receipt014.jpg\n",
      "receipt028.jpg\n",
      "receipt032.jpg\n",
      "receipt048.jpg\n",
      "receipt052.jpg\n",
      "receipt064.jpg\n",
      "receipt070.jpg\n",
      "receipt074.jpg\n",
      "receipt075.jpg\n",
      "receipt077.jpg\n",
      "receipt084.jpg\n",
      "receipt093.jpg\n",
      "receipt202.jpg\n",
      "receipt209.jpg\n"
     ]
    }
   ],
   "source": [
    "cleaned_ann_dict = {\n",
    "    'licenses':all_ann_dict['licenses'],\n",
    "    'categories':all_ann_dict['categories'],\n",
    "    'images': [],\n",
    "    'annotations':[]\n",
    "}\n",
    "from pycocotools.coco import COCO\n",
    "\n",
    "coco = COCO(all_ann_dict_path)\n",
    "for img_id in coco.getImgIds():\n",
    "    img_name = coco.loadImgs(img_id)[0]['file_name']\n",
    "    if int(img_name[7:10]) in key.general_cleansing_list:\n",
    "        print(img_name)\n",
    "        continue\n",
    "    cleaned_ann_dict['images'].append(coco.loadImgs(img_id)[0])\n",
    "    for ann_id in coco.getAnnIds(img_id):\n",
    "        cleaned_ann_dict['annotations'].append(coco.loadAnns(ann_id)[0])"
   ]
  },
  {
   "cell_type": "code",
   "execution_count": 10,
   "metadata": {},
   "outputs": [],
   "source": [
    "json.dump(cleaned_ann_dict,open(out_path,'w'),indent=4)"
   ]
  },
  {
   "cell_type": "code",
   "execution_count": null,
   "metadata": {},
   "outputs": [],
   "source": []
  }
 ],
 "metadata": {
  "interpreter": {
   "hash": "d4d1e4263499bec80672ea0156c357c1ee493ec2b1c70f0acce89fc37c4a6abe"
  },
  "kernelspec": {
   "display_name": "Python 3.8.5 ('base')",
   "language": "python",
   "name": "python3"
  },
  "language_info": {
   "codemirror_mode": {
    "name": "ipython",
    "version": 3
   },
   "file_extension": ".py",
   "mimetype": "text/x-python",
   "name": "python",
   "nbconvert_exporter": "python",
   "pygments_lexer": "ipython3",
   "version": "3.8.5"
  },
  "orig_nbformat": 4
 },
 "nbformat": 4,
 "nbformat_minor": 2
}
