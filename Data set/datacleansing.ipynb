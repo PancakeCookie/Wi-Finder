{
 "cells": [
  {
   "cell_type": "code",
   "execution_count": 1,
   "metadata": {},
   "outputs": [],
   "source": [
    "import json\n",
    "\n",
    "all_ann_dict = json.load(open('annotations/general_00_213.json','r'))"
   ]
  },
  {
   "cell_type": "code",
   "execution_count": 7,
   "metadata": {},
   "outputs": [
    {
     "data": {
      "text/plain": [
       "[14, 28, 32, 48, 52, 64, 70, 74, 75, 77, 84, 93, 202, 209]"
      ]
     },
     "execution_count": 7,
     "metadata": {},
     "output_type": "execute_result"
    }
   ],
   "source": [
    "import sys, os\n",
    "sys.path.append('/opt/ml/upstage_OCR/code')\n",
    "import key\n",
    "\n",
    "key.general_cleansing_list"
   ]
  },
  {
   "cell_type": "code",
   "execution_count": 20,
   "metadata": {},
   "outputs": [
    {
     "name": "stdout",
     "output_type": "stream",
     "text": [
      "general014.jpg\n",
      "general028.jpg\n",
      "general032.jpg\n",
      "general048.jpg\n",
      "general052.jpg\n",
      "general064.jpg\n",
      "general070.jpg\n",
      "general074.jpg\n",
      "general075.jpg\n",
      "general077.jpg\n",
      "general084.jpg\n",
      "general093.jpg\n",
      "general084.jpg\n",
      "general093.jpg\n",
      "general202.jpg\n"
     ]
    }
   ],
   "source": [
    "cleaned_ann_dict = {\n",
    "    'licenses':all_ann_dict['licenses'],\n",
    "    'categories':all_ann_dict['categories'],\n",
    "    'images': [],\n",
    "    'annotations':[]\n",
    "}\n",
    "from pycocotools.coco import COCO\n",
    "\n",
    "coco = COCO(all_ann_dict)\n",
    "for img_id in coco.getImgIds():\n",
    "    img_name = coco.loadImgs(img_id)[0]['file_name']\n",
    "    if int(img_name[7:10]) in key.general_cleansing_list:\n",
    "        print(img_name)\n",
    "        continue\n",
    "    cleaned_ann_dict['images'].append(coco.loadImgs(img_id)[0])\n",
    "    for ann_id in coco.getAnnIds(img_id):\n",
    "        cleaned_ann_dict['annotations'].append(coco.loadAnns(ann_id)[0])"
   ]
  },
  {
   "cell_type": "code",
   "execution_count": 21,
   "metadata": {},
   "outputs": [],
   "source": [
    "json.dump(cleaned_ann_dict,open('annotations/general_cleaned_1.json','w'),indent=4)"
   ]
  },
  {
   "cell_type": "code",
   "execution_count": 22,
   "metadata": {},
   "outputs": [
    {
     "name": "stdout",
     "output_type": "stream",
     "text": [
      "general000.jpg\n",
      "general014.jpg\n",
      "general028.jpg\n",
      "general032.jpg\n",
      "general048.jpg\n",
      "general052.jpg\n",
      "general064.jpg\n",
      "general070.jpg\n",
      "general074.jpg\n",
      "general075.jpg\n",
      "general077.jpg\n",
      "general084.jpg\n",
      "general093.jpg\n",
      "general084.jpg\n",
      "general093.jpg\n",
      "general149.jpg\n",
      "general157.jpg\n",
      "general193.jpg\n",
      "general194.jpg\n",
      "general198.jpg\n",
      "general201.jpg\n",
      "general202.jpg\n",
      "general207.jpg\n"
     ]
    }
   ],
   "source": [
    "cleaned_ann_dict = {\n",
    "    'licenses':all_ann_dict['licenses'],\n",
    "    'categories':all_ann_dict['categories'],\n",
    "    'images': [],\n",
    "    'annotations':[]\n",
    "}\n",
    "from pycocotools.coco import COCO\n",
    "\n",
    "coco = COCO(all_ann_dict)\n",
    "for img_id in coco.getImgIds():\n",
    "    img_name = coco.loadImgs(img_id)[0]['file_name']\n",
    "    if int(img_name[7:10]) in key.general_cleansing_list + key.general_cleansing_list2:\n",
    "        print(img_name)\n",
    "        continue\n",
    "    cleaned_ann_dict['images'].append(coco.loadImgs(img_id)[0])\n",
    "    for ann_id in coco.getAnnIds(img_id):\n",
    "        cleaned_ann_dict['annotations'].append(coco.loadAnns(ann_id)[0])"
   ]
  },
  {
   "cell_type": "code",
   "execution_count": 23,
   "metadata": {},
   "outputs": [],
   "source": [
    "json.dump(cleaned_ann_dict,open('annotations/general_cleaned_2.json','w'),indent=4)"
   ]
  },
  {
   "cell_type": "code",
   "execution_count": null,
   "metadata": {},
   "outputs": [],
   "source": []
  }
 ],
 "metadata": {
  "interpreter": {
   "hash": "d4d1e4263499bec80672ea0156c357c1ee493ec2b1c70f0acce89fc37c4a6abe"
  },
  "kernelspec": {
   "display_name": "Python 3.8.5 ('base')",
   "language": "python",
   "name": "python3"
  },
  "language_info": {
   "codemirror_mode": {
    "name": "ipython",
    "version": 3
   },
   "file_extension": ".py",
   "mimetype": "text/x-python",
   "name": "python",
   "nbconvert_exporter": "python",
   "pygments_lexer": "ipython3",
   "version": "3.8.5"
  },
  "orig_nbformat": 4
 },
 "nbformat": 4,
 "nbformat_minor": 2
}
