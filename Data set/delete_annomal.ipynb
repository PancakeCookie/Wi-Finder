{
 "cells": [
  {
   "cell_type": "code",
   "execution_count": 1,
   "metadata": {},
   "outputs": [],
   "source": [
    "import pandas as pd\n",
    "from pycocotools.coco import COCO"
   ]
  },
  {
   "cell_type": "code",
   "execution_count": 2,
   "metadata": {},
   "outputs": [
    {
     "name": "stdout",
     "output_type": "stream",
     "text": [
      "loading annotations into memory...\n",
      "Done (t=0.00s)\n"
     ]
    }
   ],
   "source": [
    "df = pd.read_csv('annomal_general_data.csv')\n",
    "coco = COCO('general_00_213.json')"
   ]
  },
  {
   "cell_type": "code",
   "execution_count": 3,
   "metadata": {},
   "outputs": [],
   "source": [
    "import json\n",
    "\n",
    "with open('general_00_213.json', 'r') as f:\n",
    "    old_dict = json.load(f)\n",
    "train_dict = {}\n",
    "train_dict[\"licenses\"] = old_dict[\"licenses\"]\n",
    "train_dict[\"categories\"] = old_dict[\"categories\"]\n",
    "train_dict[\"images\"] = []\n",
    "train_dict[\"annotations\"] = []\n",
    "\n",
    "valid_dict = {}\n",
    "valid_dict[\"licenses\"] = old_dict[\"licenses\"]\n",
    "valid_dict[\"categories\"] = old_dict[\"categories\"]\n",
    "valid_dict[\"images\"] = []\n",
    "valid_dict[\"annotations\"] = []"
   ]
  },
  {
   "cell_type": "code",
   "execution_count": 4,
   "metadata": {},
   "outputs": [],
   "source": [
    "for imgid in coco.getImgIds():\n",
    "    img_info = coco.loadImgs(imgid)[0]\n",
    "    num = img_info['file_name'][-7:-4]\n",
    "    \n",
    "    if int(num) in list(df['id']):\n",
    "        pass\n",
    "    else:\n",
    "        if imgid < 180:\n",
    "            train_dict['images'].append(img_info)\n",
    "            for ann_id in coco.getAnnIds(imgid):\n",
    "                ann_info = coco.loadAnns(ann_id)[0]\n",
    "                train_dict['annotations'].append(ann_info)\n",
    "        else:\n",
    "            valid_dict['images'].append(img_info)\n",
    "            for ann_id in coco.getAnnIds(imgid):\n",
    "                ann_info = coco.loadAnns(ann_id)[0]\n",
    "                valid_dict['annotations'].append(ann_info)"
   ]
  },
  {
   "cell_type": "code",
   "execution_count": 5,
   "metadata": {},
   "outputs": [],
   "source": [
    "with open(\"train_general.json\",'w') as f:\n",
    "    json.dump(train_dict,f,indent=4)\n",
    "\n",
    "with open(\"valid_general.json\",'w') as f:\n",
    "    json.dump(valid_dict,f,indent=4)"
   ]
  },
  {
   "cell_type": "code",
   "execution_count": null,
   "metadata": {},
   "outputs": [],
   "source": []
  }
 ],
 "metadata": {
  "interpreter": {
   "hash": "d4d1e4263499bec80672ea0156c357c1ee493ec2b1c70f0acce89fc37c4a6abe"
  },
  "kernelspec": {
   "display_name": "Python 3.8.5 ('base')",
   "language": "python",
   "name": "python3"
  },
  "language_info": {
   "codemirror_mode": {
    "name": "ipython",
    "version": 3
   },
   "file_extension": ".py",
   "mimetype": "text/x-python",
   "name": "python",
   "nbconvert_exporter": "python",
   "pygments_lexer": "ipython3",
   "version": "3.8.5"
  },
  "orig_nbformat": 4
 },
 "nbformat": 4,
 "nbformat_minor": 2
}
